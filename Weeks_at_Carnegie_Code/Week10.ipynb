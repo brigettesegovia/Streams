{
 "cells": [
  {
   "cell_type": "markdown",
   "id": "b2f89b37",
   "metadata": {},
   "source": [
    "### Imports and Load Data"
   ]
  },
  {
   "cell_type": "code",
   "execution_count": 1,
   "id": "f021548e",
   "metadata": {},
   "outputs": [],
   "source": [
    "import numpy as np\n",
    "import matplotlib.pyplot as plt\n",
    "import matplotlib as mpl\n",
    "\n",
    "from astropy.table import Table\n",
    "import astropy.units as u\n",
    "import astropy.coordinates as coord\n",
    "\n",
    "# this will require installing gala, see here: http://gala.adrian.pw/en/latest/index.html\n",
    "import gala.coordinates as gc\n",
    "import gala.dynamics as gd\n",
    "import gala.potential as gp\n",
    "from gala.units import galactic\n",
    "from gala.dynamics.nbody import DirectNBody\n",
    "import gala.integrate as gi\n",
    "from gala.dynamics import mockstream as ms # this is for generating stream models\n",
    "\n",
    "import galstreams\n",
    "\n",
    "%matplotlib inline\n",
    "%config InlineBackend.figure_format='retina'"
   ]
  },
  {
   "cell_type": "code",
   "execution_count": 2,
   "id": "d04e8640",
   "metadata": {},
   "outputs": [
    {
     "name": "stdout",
     "output_type": "stream",
     "text": [
      "Initializing galstreams library from master_log... \n"
     ]
    }
   ],
   "source": [
    "mwsts = galstreams.MWStreams(verbose=False, implement_Off=False)"
   ]
  },
  {
   "cell_type": "code",
   "execution_count": 3,
   "id": "66a867aa",
   "metadata": {},
   "outputs": [],
   "source": [
    "# define Galactocentric reference frame\n",
    "coord.galactocentric_frame_defaults.set('v4.0')\n",
    "gc_frame = coord.Galactocentric()"
   ]
  },
  {
   "cell_type": "markdown",
   "id": "176261cc",
   "metadata": {},
   "source": [
    "## Read in simulation data"
   ]
  },
  {
   "cell_type": "code",
   "execution_count": 4,
   "id": "bd8f32f6",
   "metadata": {},
   "outputs": [],
   "source": [
    "from helpers.SimulationAnalysis import SimulationAnalysis, iterTrees\n",
    "from helpers.SimulationAnalysis import readHlist"
   ]
  },
  {
   "cell_type": "code",
   "execution_count": 5,
   "id": "2a3eb4c4",
   "metadata": {},
   "outputs": [],
   "source": [
    "#Path to simulation data\n",
    "h = 0.7\n",
    "path_to_data = ''\n",
    "\n",
    "#Halo properties to load; see Section 2.4 of https://arxiv.org/abs/2008.08591 for info on Rockstar fields \n",
    "fields = ['scale','id', 'upid', 'pid', 'mvir', 'mpeak', 'rvir', 'RVmax', 'rs', 'vmax', 'vpeak', 'x', 'y', 'z', 'vx', 'vy', 'vz',\n",
    "          'M200c', 'depth_first_id','scale_of_last_MM']\n",
    "\n",
    "#Load z = 0 halo list for Halo416_16K\n",
    "halos_z0 = readHlist(path_to_data+'hlist_1.00000.list',fields=fields)\n",
    "MW_analog = halos_z0[np.argmax(halos_z0['mvir'])]\n",
    "\n",
    "subhalos_z0 = halos_z0[halos_z0['upid']==MW_analog['id']]\n",
    "LMC_analog = subhalos_z0[np.argmax(subhalos_z0['mvir'])]\n",
    "\n",
    "\n",
    "#Reading in data from dm particles\n",
    "t = Table.read('snapshot_now.fits')\n",
    "\n",
    "# ind_lmc = subhalos_z0['pid']==LMC_analog['id']\n",
    "ind_lmc = np.argmax(subhalos_z0['mvir'])"
   ]
  },
  {
   "cell_type": "raw",
   "id": "40edc9b5",
   "metadata": {},
   "source": [
    "Stream Information from Malhan"
   ]
  },
  {
   "cell_type": "code",
   "execution_count": 7,
   "id": "4e8f65bb",
   "metadata": {},
   "outputs": [],
   "source": [
    "r_peri = dict(LMS_1=10.8, Gjoll=8.5, Leiptr=12.3, Hrid=1.1, Pal5=6.9, Orphan=15.6, \n",
    "             Gaia_1=8.2, Fimbulthul=2.4, Ylgr=11.5, Fjorm=9.1, Kshir=13.4, Cetus=14.7,\n",
    "             Svol=5.9, Gunnthra=4.2, Slidr=8.7, M92=3.0, NGC_6397=3.4, NGC_3201=8.5,\n",
    "             Ophiuchus=3.9, Atlas=11.7, C_7=3.5, C_3=5.7, Palca=10.8, Sylgr=8.7,\n",
    "             Gaia_6=6.0, Gaia_9=8.7, Gaia_10=4.3, Gaia_12=18.5, Indus=12.6, Jhelum=8.7,\n",
    "             Phoenix=11.7, NGC5466=4.8, M5=3.4, C_20=20.8, NGC7089=2.9, C_19=9.3,\n",
    "             Elqui=12.1, Chenab=22.0, AliqaUma=11.6, Phlegethon=5.5, GD_1=14.1)\n"
   ]
  },
  {
   "cell_type": "code",
   "execution_count": 8,
   "id": "08907e03",
   "metadata": {},
   "outputs": [],
   "source": [
    "r_apo = dict(LMS_1=20.6, Gjoll=27.4, Leiptr=45.1, Hrid=22.0, Pal5=15.8, Orphan=41.2, \n",
    "             Gaia_1=67.6, Fimbulthul=7.2, Ylgr=20.7, Fjorm=29.1, Kshir=16.0, Cetus=35.9,\n",
    "             Svol=10.0, Gunnthra=7.2, Slidr=32.3, M92=10.7, NGC_6397=6.4, NGC_3201=30.5,\n",
    "             Ophiuchus=14.2, Atlas=32.4, C_7=21.0, C_3=10.0, Palca=16.5, Sylgr=24.6,\n",
    "             Gaia_6=9.5, Gaia_9=20.8, Gaia_10=37.7, Gaia_12=194.3, Indus=18.9, Jhelum=24.5,\n",
    "             Phoenix=18.1, NGC5466=33.7, M5=24.8, C_20=58.5, NGC7089=14.7, C_19=21.6,\n",
    "             Elqui=54.0, Chenab=81.0, AliqaUma=31.9, Phlegethon=22.1, GD_1=23.0)\n"
   ]
  },
  {
   "cell_type": "markdown",
   "id": "adbad83e",
   "metadata": {},
   "source": [
    "## Integrate orbits"
   ]
  },
  {
   "cell_type": "markdown",
   "id": "7b7f4706",
   "metadata": {},
   "source": [
    "The internal structure of dark matter halos is well described by a NFW profile. For more details, see the wiki page: https://en.wikipedia.org/wiki/Navarro%E2%80%93Frenk%E2%80%93White_profile\n",
    "(the original article is here: https://ui.adsabs.harvard.edu/abs/1997ApJ...490..493N/abstract)\n",
    "\n",
    "We will be using the implementation in gala: http://gala.adrian.pw/en/latest/api/gala.potential.potential.NFWPotential.html#gala.potential.potential.NFWPotential\n",
    "\n",
    "Here is a gala tutorial for calculating an orbit in a dark matter halo (that is, assuming an NFW gravitational potential): http://gala.adrian.pw/en/latest/tutorials/integrate-potential-example.html"
   ]
  },
  {
   "cell_type": "code",
   "execution_count": 6,
   "id": "c8591f2b",
   "metadata": {},
   "outputs": [],
   "source": [
    "# in our case, we'll define the gravitational potential with the mass and scale radius of the MW_analog halo\n",
    "ham = gp.Hamiltonian(gp.NFWPotential(m=MW_analog['mvir']/h*u.Msun, r_s=MW_analog['rs']/h*u.kpc, units=galactic))\n"
   ]
  },
  {
   "cell_type": "markdown",
   "id": "ead74f3e",
   "metadata": {},
   "source": [
    "### Stream models"
   ]
  },
  {
   "cell_type": "markdown",
   "id": "c8b3e4b0",
   "metadata": {},
   "source": [
    "We will create stream models using the \"particle spray\" method. For a description of the basic method, see the first part of section 3 in Bonaca et al. 2014 paper: https://ui.adsabs.harvard.edu/abs/2014ApJ...795...94B/abstract. Gala has an implementation of a more general method, and describes how to use it here: http://gala.adrian.pw/en/latest/dynamics/mockstreams.html"
   ]
  },
  {
   "cell_type": "markdown",
   "id": "ad2cf76c",
   "metadata": {},
   "source": [
    "I'll give an example of Gaia-12 since it has the largest apocenter.\n",
    "\n",
    "Same as before, we'll start by takin an anchor point for a stream orbit from Table 1 in Malhan et al. paper: https://ui.adsabs.harvard.edu/abs/2022ApJ...926..107M/abstract only this time, we'll assume the anchor point is where the stream progenitor would be. In case of Gaia-12, the progenitor has likely disrupted, so our model will not be completely realistic, but it will have a similar extent to the real stream, which is what matters more for estimating the effect of subhalos on it."
   ]
  },
  {
   "cell_type": "code",
   "execution_count": 9,
   "id": "7817577e",
   "metadata": {},
   "outputs": [],
   "source": [
    "name = 'Slidr-I21'\n",
    "#Information for Slidr coming from Malhan\n",
    "c = coord.SkyCoord(ra=160.05*u.deg, dec=10.22*u.deg, distance=2.99*u.kpc, pm_ra_cosdec=-24.6*u.mas/u.yr,\n",
    "                  pm_dec=-6.65*u.mas/u.yr, radial_velocity=-87.98*u.km/u.s, frame='icrs')\n",
    "w0 = gd.PhaseSpacePosition(c.transform_to(gc_frame).cartesian)\n"
   ]
  },
  {
   "cell_type": "code",
   "execution_count": 10,
   "id": "2d5124d4",
   "metadata": {},
   "outputs": [],
   "source": [
    "# setup how stars get released from the progenitor\n",
    "state = np.random.RandomState(seed=291)\n",
    "df = ms.FardalStreamDF(random_state=state) #distribution function for stream disruption og GlobClust\n",
    "\n",
    "prog_mass = 1e4*u.Msun\n",
    "gen = ms.MockStreamGenerator(df, ham)"
   ]
  },
  {
   "cell_type": "code",
   "execution_count": 23,
   "id": "16216b57",
   "metadata": {},
   "outputs": [],
   "source": [
    "dt = -1*u.Myr # negative time step means that we are giving the present-day position of the progenitor\n",
    "#the nstep will change according to stream\n",
    "Nstep = 370 # I started with 2000, but decreased it until the length of the model matched the detected stream\n",
    "nrelease = 2 # release stars every second timestep\n",
    "stream_, prog = gen.run(w0, prog_mass, dt=dt, n_steps=Nstep, release_every=nrelease)"
   ]
  },
  {
   "cell_type": "code",
   "execution_count": 24,
   "id": "455c20e0",
   "metadata": {},
   "outputs": [],
   "source": [
    "# transform stream model to sky coordinates\n",
    "stream = stream_.to_coord_frame(coord.ICRS())"
   ]
  },
  {
   "cell_type": "code",
   "execution_count": 25,
   "id": "3cb33d06",
   "metadata": {},
   "outputs": [
    {
     "data": {
      "image/png": "[encoded data removed]",
      "text/plain": [
       "<Figure size 576x432 with 1 Axes>"
      ]
     },
     "metadata": {
      "image/png": {
       "height": 231,
       "width": 568
      },
      "needs_background": "light"
     },
     "output_type": "display_data"
    }
   ],
   "source": [
    "plt.figure(figsize=(8,6))\n",
    "plt.plot(stream.ra, stream.dec, 'k.')\n",
    "plt.plot(c.ra.wrap_at(180*u.deg), c.dec, 'ro')\n",
    "plt.plot(mwsts[name].track.ra.wrap_at(180*u.deg), mwsts[name].track.dec, 'b-')\n",
    "\n",
    "plt.xlabel('R.A. [deg]')\n",
    "plt.ylabel('Dec [deg]')\n",
    "plt.gca().set_aspect('equal')\n",
    "plt.tight_layout()"
   ]
  },
  {
   "cell_type": "markdown",
   "id": "bfeea886",
   "metadata": {},
   "source": [
    "### LMC perturbation"
   ]
  },
  {
   "cell_type": "markdown",
   "id": "b5c568d5",
   "metadata": {},
   "source": [
    "#### halo rotation"
   ]
  },
  {
   "cell_type": "code",
   "execution_count": 27,
   "id": "0292f09e",
   "metadata": {},
   "outputs": [
    {
     "data": {
      "text/plain": [
       "1072"
      ]
     },
     "execution_count": 27,
     "metadata": {},
     "output_type": "execute_result"
    }
   ],
   "source": [
    "ind_massive = (subhalos_z0['mvir'] > 10**7)\n",
    "len(subhalos_z0['mvir'][ind_massive])"
   ]
  },
  {
   "cell_type": "code",
   "execution_count": 28,
   "id": "9bf41cf6",
   "metadata": {},
   "outputs": [],
   "source": [
    "ts = Table(subhalos_z0[ind_massive])\n",
    "for comp in ['x', 'y', 'z']:\n",
    "    ts[comp] = ((ts[comp] - MW_analog[comp])*u.Mpc/h).to(u.kpc)\n",
    "for comp in ['vx', 'vy', 'vz']:\n",
    "    ts[comp] = (ts[comp] - MW_analog[comp])*u.km/u.s"
   ]
  },
  {
   "cell_type": "code",
   "execution_count": 29,
   "id": "11705fa5",
   "metadata": {},
   "outputs": [],
   "source": [
    "c_sh = coord.Galactocentric(x=ts['x'], y=ts['y'], z=ts['z'], \n",
    "                            v_x=ts['vx'], v_y=ts['vy'], v_z=ts['vz'])\n",
    "ceq_sh = c_sh.transform_to(coord.ICRS())"
   ]
  },
  {
   "cell_type": "code",
   "execution_count": 30,
   "id": "5268aaec",
   "metadata": {},
   "outputs": [],
   "source": [
    "ceq_lmc = coord.ICRS(ra=78.76*u.deg, dec=-69.19*u.deg, distance=(10**(0.2*18.50+1)*u.pc).to(u.kpc), \n",
    "                     radial_velocity=262.2*u.km/u.s, pm_ra_cosdec=1.91*u.mas/u.yr, pm_dec=0.229*u.mas/u.yr)\n",
    "c_lmc = ceq_lmc.transform_to(coord.Galactocentric())"
   ]
  },
  {
   "cell_type": "code",
   "execution_count": 31,
   "id": "098277bf",
   "metadata": {},
   "outputs": [
    {
     "data": {
      "text/plain": [
       "<ICRS Coordinate: (ra, dec, distance) in (deg, deg, kpc)\n",
       "    (112.81196526, 17.46739192, 92.87612384)\n",
       " (pm_ra_cosdec, pm_dec, radial_velocity) in (mas / yr, mas / yr, km / s)\n",
       "    (0.52617911, -0.53215685, 353.97114326)>"
      ]
     },
     "execution_count": 31,
     "metadata": {},
     "output_type": "execute_result"
    }
   ],
   "source": [
    "ind_lmc = np.argmax(subhalos_z0['mvir'])\n",
    "ceq_sh[ind_lmc]"
   ]
  },
  {
   "cell_type": "code",
   "execution_count": 32,
   "id": "19ff6b46",
   "metadata": {},
   "outputs": [
    {
     "data": {
      "text/plain": [
       "<ICRS Coordinate: (ra, dec, distance) in (deg, deg, kpc)\n",
       "    (78.76, -69.19, 50.11872336)\n",
       " (pm_ra_cosdec, pm_dec, radial_velocity) in (mas / yr, mas / yr, km / s)\n",
       "    (1.91, 0.229, 262.2)>"
      ]
     },
     "execution_count": 32,
     "metadata": {},
     "output_type": "execute_result"
    }
   ],
   "source": [
    "ceq_lmc"
   ]
  },
  {
   "cell_type": "markdown",
   "id": "5025df69",
   "metadata": {},
   "source": [
    "This is following: https://math.stackexchange.com/questions/2754627/rotation-matrices-between-two-points-on-a-sphere"
   ]
  },
  {
   "cell_type": "code",
   "execution_count": 33,
   "id": "169c570c",
   "metadata": {},
   "outputs": [],
   "source": [
    "vsim = np.array([c_sh.x.value[ind_lmc], c_sh.y.value[ind_lmc], c_sh.z.value[ind_lmc]])\n",
    "vsim = vsim / np.linalg.norm(vsim)\n",
    "\n",
    "vtrue = np.array([c_lmc.x.value, c_lmc.y.value, c_lmc.z.value])\n",
    "vtrue = vtrue / np.linalg.norm(vtrue)"
   ]
  },
  {
   "cell_type": "code",
   "execution_count": 34,
   "id": "965c08d4",
   "metadata": {},
   "outputs": [
    {
     "data": {
      "text/plain": [
       "((3,), array([-0.01956117, -0.82754257, -0.56106208]))"
      ]
     },
     "execution_count": 34,
     "metadata": {},
     "output_type": "execute_result"
    }
   ],
   "source": [
    "np.shape(vsim), vtrue"
   ]
  },
  {
   "cell_type": "code",
   "execution_count": 35,
   "id": "5b9529d4",
   "metadata": {},
   "outputs": [],
   "source": [
    "vpole = np.cross(vsim, vtrue)\n",
    "vpole = vpole / np.linalg.norm(vpole)"
   ]
  },
  {
   "cell_type": "code",
   "execution_count": 36,
   "id": "60cf79c0",
   "metadata": {},
   "outputs": [],
   "source": [
    "theta = np.arccos(np.dot(vsim,vtrue)/(np.linalg.norm(vsim)*np.linalg.norm(vtrue)))"
   ]
  },
  {
   "cell_type": "markdown",
   "id": "662e6c50",
   "metadata": {},
   "source": [
    "with the rotation matrix given by: https://en.wikipedia.org/wiki/Rotation_matrix#Rotation_matrix_from_axis_and_angle"
   ]
  },
  {
   "cell_type": "code",
   "execution_count": 37,
   "id": "51c8c15d",
   "metadata": {},
   "outputs": [],
   "source": [
    "R = np.array([[np.cos(theta) + vpole[0]**2*(1-np.cos(theta)),\n",
    "              vpole[0]*vpole[1]*(1-np.cos(theta)) - vpole[2]*np.sin(theta),\n",
    "              vpole[0]*vpole[2]*(1-np.cos(theta)) + vpole[1]*np.sin(theta)],\n",
    "             [vpole[1]*vpole[0]*(1-np.cos(theta)) + vpole[2]*np.sin(theta),\n",
    "              np.cos(theta) + vpole[1]**2*(1-np.cos(theta)),\n",
    "              vpole[1]*vpole[2]*(1-np.cos(theta)) - vpole[0]*np.sin(theta)],\n",
    "             [vpole[2]*vpole[0]*(1-np.cos(theta)) - vpole[1]*np.sin(theta),\n",
    "              vpole[2]*vpole[1]*(1-np.cos(theta)) + vpole[0]*np.sin(theta),\n",
    "              np.cos(theta) + vpole[2]**2*(1-np.cos(theta))]])"
   ]
  },
  {
   "cell_type": "code",
   "execution_count": 38,
   "id": "5694f482",
   "metadata": {},
   "outputs": [],
   "source": [
    "vtest = np.matmul(R,vsim)"
   ]
  },
  {
   "cell_type": "code",
   "execution_count": 39,
   "id": "0444ae9d",
   "metadata": {},
   "outputs": [
    {
     "data": {
      "text/plain": [
       "array([-0.01956117, -0.8275426 , -0.5610621 ])"
      ]
     },
     "execution_count": 39,
     "metadata": {},
     "output_type": "execute_result"
    }
   ],
   "source": [
    "vtest"
   ]
  },
  {
   "cell_type": "code",
   "execution_count": 40,
   "id": "e0a8d591",
   "metadata": {},
   "outputs": [
    {
     "data": {
      "text/plain": [
       "array([-0.01956117, -0.82754257, -0.56106208])"
      ]
     },
     "execution_count": 40,
     "metadata": {},
     "output_type": "execute_result"
    }
   ],
   "source": [
    "vtrue"
   ]
  },
  {
   "cell_type": "markdown",
   "id": "b7e0405a",
   "metadata": {},
   "source": [
    "#### rotated table"
   ]
  },
  {
   "cell_type": "code",
   "execution_count": 41,
   "id": "fda1d64d",
   "metadata": {},
   "outputs": [],
   "source": [
    "trot = Table(subhalos_z0[ind_massive])\n",
    "N = len(trot)\n",
    "trot['x'] = np.zeros(N)#*u.kpc\n",
    "trot['y'] = np.zeros(N)#*u.kpc\n",
    "trot['z'] = np.zeros(N)#*u.kpc\n",
    "\n",
    "trot['vx'] = np.zeros(N)#*u.km/u.s\n",
    "trot['vy'] = np.zeros(N)#*u.km/u.s\n",
    "trot['vz'] = np.zeros(N)#*u.km/u.s\n",
    "\n",
    "for i in range(N):\n",
    "    # positions\n",
    "    temp_vec = np.array([ts['x'][i], ts['y'][i], ts['z'][i]])\n",
    "    rot_vec = np.matmul(R, temp_vec)\n",
    "    \n",
    "    trot['x'][i] = rot_vec[0]#*u.kpc\n",
    "    trot['y'][i] = rot_vec[1]#*u.kpc\n",
    "    trot['z'][i] = rot_vec[2]#*u.kpc\n",
    "    \n",
    "    # velocities\n",
    "    temp_vec = np.array([ts['vx'][i], ts['vy'][i], ts['vz'][i]])\n",
    "    rot_vec = np.matmul(R, temp_vec)\n",
    "    \n",
    "    trot['vx'][i] = rot_vec[0]#*u.kpc\n",
    "    trot['vy'][i] = rot_vec[1]#*u.kpc\n",
    "    trot['vz'][i] = rot_vec[2]#*u.kpc"
   ]
  },
  {
   "cell_type": "code",
   "execution_count": 42,
   "id": "f45a3fc7",
   "metadata": {},
   "outputs": [
    {
     "data": {
      "text/html": [
       "<i>Table length=1072</i>\n",
       "<table id=\"table140269901461008\" class=\"table-striped table-bordered table-condensed\">\n",
       "<thead><tr><th>scale</th><th>id</th><th>upid</th><th>pid</th><th>mvir</th><th>mpeak</th><th>rvir</th><th>RVmax</th><th>rs</th><th>vmax</th><th>vpeak</th><th>x</th><th>y</th><th>z</th><th>vx</th><th>vy</th><th>vz</th><th>M200c</th><th>depth_first_id</th><th>scale_of_last_MM</th></tr></thead>\n",
       "<thead><tr><th>float32</th><th>int64</th><th>int64</th><th>int64</th><th>float32</th><th>float32</th><th>float32</th><th>float32</th><th>float32</th><th>float32</th><th>float32</th><th>float64</th><th>float64</th><th>float64</th><th>float64</th><th>float64</th><th>float64</th><th>float32</th><th>int64</th><th>float32</th></tr></thead>\n",
       "<tr><td>1.0</td><td>72459389</td><td>72506199</td><td>72506199</td><td>120700000000.0</td><td>205000000000.0</td><td>101.534</td><td>19.3006</td><td>4.672</td><td>103.07</td><td>120.28</td><td>-1.9599346441515664</td><td>-82.91581878201421</td><td>-56.21574545318059</td><td>41.79535938438639</td><td>-309.3911548468411</td><td>4.169373074233404</td><td>107950000000.0</td><td>5533817</td><td>0.86916</td></tr>\n",
       "<tr><td>1.0</td><td>72450712</td><td>72506199</td><td>72459389</td><td>57970000000.0</td><td>80900000000.0</td><td>79.506</td><td>12.1709</td><td>2.452</td><td>86.01</td><td>92.67</td><td>19.90469941445416</td><td>-86.73026998775049</td><td>-78.63497132388338</td><td>-218.04374828506053</td><td>-94.9571174646542</td><td>31.981945046736662</td><td>53978000000.0</td><td>8426009</td><td>0.3844</td></tr>\n",
       "<tr><td>1.0</td><td>72519929</td><td>72506199</td><td>72506199</td><td>25320000000.0</td><td>25740000000.0</td><td>60.324</td><td>7.65685</td><td>3.405</td><td>58.68</td><td>60.05</td><td>40.51952434373715</td><td>220.41956840799867</td><td>168.72461548991257</td><td>2.53517484879427</td><td>-218.6835759170639</td><td>-112.24519557916568</td><td>22614000000.0</td><td>10033184</td><td>0.14041</td></tr>\n",
       "<tr><td>1.0</td><td>72449874</td><td>72506199</td><td>72450712</td><td>10910000000.0</td><td>14480000000.0</td><td>45.568</td><td>5.64519</td><td>1.29</td><td>50.03</td><td>57.88</td><td>112.99428921774361</td><td>-89.69790057276299</td><td>-101.88445240628293</td><td>34.17528670968785</td><td>-189.70177711924015</td><td>-81.70782595097783</td><td>10684000000.0</td><td>11728161</td><td>0.21659</td></tr>\n",
       "<tr><td>1.0</td><td>72469252</td><td>72506199</td><td>72459389</td><td>3997000000.0</td><td>9972000000.0</td><td>32.601</td><td>3.98983</td><td>0.553</td><td>42.49</td><td>51.68</td><td>-80.7158924016363</td><td>-43.63220988532212</td><td>-41.03613330734938</td><td>1.6404752924872206</td><td>-42.74149479022687</td><td>-224.61790612318</td><td>3979800000.0</td><td>13690590</td><td>0.32569</td></tr>\n",
       "<tr><td>1.0</td><td>72499132</td><td>72506199</td><td>72506199</td><td>3787000000.0</td><td>7354000000.0</td><td>32.019</td><td>2.20292</td><td>0.555</td><td>41.06</td><td>51.66</td><td>208.41599574083165</td><td>-192.56975460710208</td><td>81.38811529021346</td><td>-48.65259895928822</td><td>39.901440275846504</td><td>-43.05374990567632</td><td>3671000000.0</td><td>13865261</td><td>0.18587</td></tr>\n",
       "<tr><td>1.0</td><td>72449455</td><td>72506199</td><td>72450712</td><td>2479000000.0</td><td>19250000000.0</td><td>27.803</td><td>1.72488</td><td>0.329</td><td>39.39</td><td>63.47</td><td>89.26177293486964</td><td>-39.37037472952912</td><td>-63.19375026013911</td><td>-103.00144637242184</td><td>15.04213988696808</td><td>22.067638779305643</td><td>2395500000.0</td><td>14836877</td><td>0.08874</td></tr>\n",
       "<tr><td>1.0</td><td>72524002</td><td>72506199</td><td>72506199</td><td>1988000000.0</td><td>2470000000.0</td><td>25.831</td><td>2.30569</td><td>0.562</td><td>31.44</td><td>37.15</td><td>-119.7141498527599</td><td>57.78660245857486</td><td>114.26419956270568</td><td>19.183535746168204</td><td>165.47257890433747</td><td>68.89573851079723</td><td>1945800000.0</td><td>15369227</td><td>0.08013</td></tr>\n",
       "<tr><td>1.0</td><td>72524313</td><td>72506199</td><td>72506199</td><td>1577000000.0</td><td>4961000000.0</td><td>23.912</td><td>1.98646</td><td>0.287</td><td>32.24</td><td>40.84</td><td>-138.1078821850083</td><td>11.6819497910626</td><td>160.89746197857568</td><td>-16.5269381879806</td><td>-38.723077733847646</td><td>-4.28399251539551</td><td>1495600000.0</td><td>15790527</td><td>0.0568</td></tr>\n",
       "<tr><td>1.0</td><td>72460408</td><td>72506199</td><td>72450712</td><td>1493000000.0</td><td>3613000000.0</td><td>23.478</td><td>2.96707</td><td>0.373</td><td>32.88</td><td>37.51</td><td>-22.12197496324496</td><td>-145.31398734970924</td><td>8.611851396542036</td><td>-159.19341261474042</td><td>91.43933818234052</td><td>67.90614347088595</td><td>1485100000.0</td><td>15885144</td><td>0.14965</td></tr>\n",
       "<tr><td>...</td><td>...</td><td>...</td><td>...</td><td>...</td><td>...</td><td>...</td><td>...</td><td>...</td><td>...</td><td>...</td><td>...</td><td>...</td><td>...</td><td>...</td><td>...</td><td>...</td><td>...</td><td>...</td><td>...</td></tr>\n",
       "<tr><td>1.0</td><td>72448964</td><td>72506199</td><td>72506199</td><td>10080000.0</td><td>12580000.0</td><td>4.438</td><td>0.39365</td><td>0.039</td><td>6.21</td><td>6.76</td><td>115.57762677890085</td><td>1.377920220149953</td><td>-89.57741357717694</td><td>8.339616358450508</td><td>2.5248032472583795</td><td>-191.923824521677</td><td>9975100.0</td><td>30225117</td><td>0.1205</td></tr>\n",
       "<tr><td>1.0</td><td>72449981</td><td>72506199</td><td>72450755</td><td>10080000.0</td><td>43070000.0</td><td>4.438</td><td>0.26429</td><td>0.015</td><td>9.28</td><td>11.53</td><td>21.62779748615728</td><td>-74.41598819346083</td><td>-77.81161503726511</td><td>-179.7407357350666</td><td>-134.29508353957385</td><td>-141.46780898255915</td><td>10081000.0</td><td>30225408</td><td>0.14404</td></tr>\n",
       "<tr><td>1.0</td><td>72461170</td><td>72506199</td><td>72461313</td><td>10080000.0</td><td>23970000.0</td><td>4.438</td><td>0.29202</td><td>0.034</td><td>8.02</td><td>9.57</td><td>-52.694167533750296</td><td>-104.43331951244618</td><td>44.61693205859128</td><td>183.48663925750776</td><td>3.7542193710697376</td><td>-27.14893581729529</td><td>10046000.0</td><td>30225713</td><td>0.15157</td></tr>\n",
       "<tr><td>1.0</td><td>72499325</td><td>72506199</td><td>72506199</td><td>10080000.0</td><td>51460000.0</td><td>4.438</td><td>0.30146</td><td>0.005</td><td>7.99</td><td>11.65</td><td>40.62091169320566</td><td>-71.54326346527978</td><td>99.36881196826319</td><td>14.85406218161167</td><td>1.752593135018857</td><td>85.65782468517027</td><td>10081000.0</td><td>30227618</td><td>0.10473</td></tr>\n",
       "<tr><td>1.0</td><td>72519435</td><td>72506199</td><td>72506199</td><td>10080000.0</td><td>86040000.0</td><td>4.438</td><td>0.44606</td><td>0.002</td><td>7.84</td><td>12.55</td><td>-38.0521371513839</td><td>55.51638878733601</td><td>113.06500700588181</td><td>97.04377540204227</td><td>-28.19817492390574</td><td>38.776071180645495</td><td>10081000.0</td><td>30229158</td><td>0.08541</td></tr>\n",
       "<tr><td>1.0</td><td>72451714</td><td>72506199</td><td>72452792</td><td>10050000.0</td><td>14130000.0</td><td>4.433</td><td>0.59166</td><td>0.085</td><td>5.88</td><td>6.72</td><td>35.392122950174546</td><td>-114.37144004196992</td><td>-84.23508971983739</td><td>114.73081659568768</td><td>-106.14129528110867</td><td>221.2516410634915</td><td>10010000.0</td><td>30239833</td><td>0.18119</td></tr>\n",
       "<tr><td>1.0</td><td>72507642</td><td>72506199</td><td>72506199</td><td>10050000.0</td><td>80610000.0</td><td>4.433</td><td>0.52017</td><td>0.055</td><td>7.0</td><td>11.31</td><td>-27.797026860502942</td><td>0.36902985422159595</td><td>84.1004904198619</td><td>-132.59893920021804</td><td>22.24329339610324</td><td>141.54941264282283</td><td>10046000.0</td><td>30246146</td><td>0.36529</td></tr>\n",
       "<tr><td>1.0</td><td>72517161</td><td>72506199</td><td>72506199</td><td>10050000.0</td><td>14200000.0</td><td>4.433</td><td>0.73029</td><td>0.08</td><td>5.29</td><td>6.27</td><td>-61.40875365591903</td><td>189.78642189211487</td><td>-104.81637978618532</td><td>-22.005150011869627</td><td>-11.962586242728417</td><td>22.537560084280962</td><td>9340600.0</td><td>30247996</td><td>0.10607</td></tr>\n",
       "<tr><td>1.0</td><td>72461237</td><td>72506199</td><td>72506199</td><td>10010000.0</td><td>13500000.0</td><td>4.427</td><td>0.37199</td><td>0.212</td><td>5.15</td><td>5.94</td><td>-75.18317063535272</td><td>-173.81624010523885</td><td>92.4877180902915</td><td>15.521146336390764</td><td>-161.95752548871792</td><td>169.8049437303316</td><td>9728400.0</td><td>30261204</td><td>0.11021</td></tr>\n",
       "<tr><td>1.0</td><td>72469170</td><td>72506199</td><td>72469252</td><td>10010000.0</td><td>38490000.0</td><td>4.427</td><td>0.40544</td><td>0.011</td><td>7.13</td><td>9.31</td><td>-80.02111012263964</td><td>-78.66532102974294</td><td>-57.15386488427077</td><td>-85.16121816413202</td><td>6.036911905656353</td><td>85.07951360890507</td><td>9798800.0</td><td>30262665</td><td>0.09952</td></tr>\n",
       "</table>"
      ],
      "text/plain": [
       "<Table length=1072>\n",
       " scale     id      upid   ...     M200c      depth_first_id scale_of_last_MM\n",
       "float32  int64    int64   ...    float32         int64          float32     \n",
       "------- -------- -------- ... -------------- -------------- ----------------\n",
       "    1.0 72459389 72506199 ... 107950000000.0        5533817          0.86916\n",
       "    1.0 72450712 72506199 ...  53978000000.0        8426009           0.3844\n",
       "    1.0 72519929 72506199 ...  22614000000.0       10033184          0.14041\n",
       "    1.0 72449874 72506199 ...  10684000000.0       11728161          0.21659\n",
       "    1.0 72469252 72506199 ...   3979800000.0       13690590          0.32569\n",
       "    1.0 72499132 72506199 ...   3671000000.0       13865261          0.18587\n",
       "    1.0 72449455 72506199 ...   2395500000.0       14836877          0.08874\n",
       "    1.0 72524002 72506199 ...   1945800000.0       15369227          0.08013\n",
       "    1.0 72524313 72506199 ...   1495600000.0       15790527           0.0568\n",
       "    1.0 72460408 72506199 ...   1485100000.0       15885144          0.14965\n",
       "    ...      ...      ... ...            ...            ...              ...\n",
       "    1.0 72448964 72506199 ...      9975100.0       30225117           0.1205\n",
       "    1.0 72449981 72506199 ...     10081000.0       30225408          0.14404\n",
       "    1.0 72461170 72506199 ...     10046000.0       30225713          0.15157\n",
       "    1.0 72499325 72506199 ...     10081000.0       30227618          0.10473\n",
       "    1.0 72519435 72506199 ...     10081000.0       30229158          0.08541\n",
       "    1.0 72451714 72506199 ...     10010000.0       30239833          0.18119\n",
       "    1.0 72507642 72506199 ...     10046000.0       30246146          0.36529\n",
       "    1.0 72517161 72506199 ...      9340600.0       30247996          0.10607\n",
       "    1.0 72461237 72506199 ...      9728400.0       30261204          0.11021\n",
       "    1.0 72469170 72506199 ...      9798800.0       30262665          0.09952"
      ]
     },
     "execution_count": 42,
     "metadata": {},
     "output_type": "execute_result"
    }
   ],
   "source": [
    "trot"
   ]
  },
  {
   "cell_type": "code",
   "execution_count": 43,
   "id": "4b45fd6c",
   "metadata": {},
   "outputs": [],
   "source": [
    "crot = coord.Galactocentric(x=trot['x']*u.kpc, y=trot['y']*u.kpc, z=trot['z']*u.kpc, \n",
    "                            v_x=trot['vx']*u.km/u.s, v_y=trot['vy']*u.km/u.s, v_z=trot['vz']*u.km/u.s)"
   ]
  },
  {
   "cell_type": "code",
   "execution_count": null,
   "id": "9b70e169",
   "metadata": {},
   "outputs": [],
   "source": [
    "#This is the radius from the center at which the maximum velocity occurs\n",
    "#trot['rs'] = (trot['RVmax'])/2.163"
   ]
  },
  {
   "cell_type": "markdown",
   "id": "9f0ab468",
   "metadata": {},
   "source": [
    "#### add Subhalo 688 perturber to stream generation"
   ]
  },
  {
   "cell_type": "code",
   "execution_count": null,
   "id": "0f92f4b9",
   "metadata": {},
   "outputs": [],
   "source": [
    "ts['rs'][688], ts['mvir'][688] #HERE I WOULD ADD THE AUBHLO RATHER THAN THE LMC"
   ]
  },
  {
   "cell_type": "code",
   "execution_count": null,
   "id": "8e2d91d8",
   "metadata": {},
   "outputs": [],
   "source": [
    "# this defines the additional contribution to the gravitational potential from the subhalo\n",
    "# here you should use the better estimate of the scale radius using vmax\n",
    "sh_pot = gp.NFWPotential(m=ts['mvir'][688]*u.Msun/h, r_s=((ts['RVmax'])/2.163)[688]*u.kpc/h, units=galactic) #Use rs = RVmax/2.163 \n",
    "\n",
    "\n"
   ]
  },
  {
   "cell_type": "code",
   "execution_count": null,
   "id": "e4279cf5",
   "metadata": {},
   "outputs": [],
   "source": [
    "# present-day position of the subhalo\n",
    "w0_sh = gd.PhaseSpacePosition(crot[688].cartesian)"
   ]
  },
  {
   "cell_type": "code",
   "execution_count": null,
   "id": "d46573cb",
   "metadata": {},
   "outputs": [],
   "source": [
    "# here we define an Nbody object which contains the present day position of the subhalo and its potential\n",
    "# in this example it only has the single object, but in yours it will have 5 simultaneously\n",
    "# so you'll need w0 to have positions of all subhalos you want to include\n",
    "# and include a list of their individual potentials as the second argument\n",
    "# more info: http://gala.adrian.pw/en/latest/dynamics/nbody.html\n",
    "nbody = DirectNBody(w0_sh, [sh_pot], external_potential=ham.potential) #w0 is position and sh is gravitational potential of the same thing, in my case i use a subhalo\n",
    "\n"
   ]
  },
  {
   "cell_type": "code",
   "execution_count": null,
   "id": "1f2f770c",
   "metadata": {},
   "outputs": [],
   "source": [
    "# this is the same as before\n",
    "# setup how stars get released from the progenitor\n",
    "state = np.random.RandomState(seed=291)\n",
    "df = ms.FardalStreamDF(random_state=state)\n",
    "\n",
    "prog_mass = 1e4*u.Msun\n",
    "gen = ms.MockStreamGenerator(df, ham)"
   ]
  },
  {
   "cell_type": "code",
   "execution_count": null,
   "id": "96a0f5da",
   "metadata": {},
   "outputs": [],
   "source": [
    "dt = -1*u.Myr # negative time step means that we are giving the present-day position of the progenitor\n",
    "Nstep = 300 # I started with 2000, but decreased it until the length of the model matched the detected stream\n",
    "nrelease = 2 # release stars every second timestep\n",
    "\n",
    "# here we include the nbody in the stream generation\n",
    "stream_sh_, prog = gen.run(w0, prog_mass, dt=dt, n_steps=Nstep, release_every=nrelease, nbody=nbody)"
   ]
  },
  {
   "cell_type": "code",
   "execution_count": null,
   "id": "7f028cdb",
   "metadata": {},
   "outputs": [],
   "source": [
    "# transform stream model to sky coordinates\n",
    "stream_sh = stream_sh_.to_coord_frame(coord.ICRS())"
   ]
  },
  {
   "cell_type": "code",
   "execution_count": null,
   "id": "de3bac9b",
   "metadata": {},
   "outputs": [],
   "source": [
    "plt.figure(figsize=(8,6))\n",
    "plt.plot(stream.ra, stream.dec, 'k.')\n",
    "plt.plot(stream_sh.ra, stream_sh.dec, 'r.')\n",
    "# plt.plot(c.ra.wrap_at(180*u.deg), c.dec, 'ro')\n",
    "plt.plot(mwsts[name].track.ra.wrap_at(180*u.deg), mwsts[name].track.dec, 'b-')\n",
    "\n",
    "plt.xlabel('R.A. [deg]')\n",
    "plt.ylabel('Dec [deg]')\n",
    "plt.gca().set_aspect('equal')\n",
    "plt.tight_layout()"
   ]
  },
  {
   "cell_type": "markdown",
   "id": "e266fa29",
   "metadata": {},
   "source": [
    "It looks like the LMC analog shifts the stream a little bit. Let's see what the impact those close encounters have on Gaia-1!"
   ]
  },
  {
   "cell_type": "code",
   "execution_count": null,
   "id": "8dd5b1bf",
   "metadata": {},
   "outputs": [],
   "source": [
    "plt.figure()\n",
    "plt.hist(subhalos_z0[ind_massive]['mvir'], bins=np.logspace(6,12,70), color='blue', label='Subhalos'); \n",
    "#plt.hist(r_peri.values(),bins=np.linspace(-1,200,70), color='red', histtype='step', label='Streams Pericenter')\n",
    "plt.gca().set_xscale('log')\n",
    "plt.gca().set_yscale('log')\n",
    "plt.xlabel('Subhalo Mass')\n",
    "plt.ylabel('Total Number of Subhalos')\n",
    "plt.xlim(10**7, 10**12)\n",
    "plt.title('Distribution of Mass in Subhalos')"
   ]
  },
  {
   "cell_type": "code",
   "execution_count": null,
   "id": "cac859f8",
   "metadata": {},
   "outputs": [],
   "source": [
    "LMC_analog['mvir']"
   ]
  },
  {
   "cell_type": "code",
   "execution_count": null,
   "id": "f103a818",
   "metadata": {},
   "outputs": [],
   "source": []
  }
 ],
 "metadata": {
  "kernelspec": {
   "display_name": "Python 3",
   "language": "python",
   "name": "python3"
  },
  "language_info": {
   "codemirror_mode": {
    "name": "ipython",
    "version": 3
   },
   "file_extension": ".py",
   "mimetype": "text/x-python",
   "name": "python",
   "nbconvert_exporter": "python",
   "pygments_lexer": "ipython3",
   "version": "3.8.8"
  }
 },
 "nbformat": 4,
 "nbformat_minor": 5
}
